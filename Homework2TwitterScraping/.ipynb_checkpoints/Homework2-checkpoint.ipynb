{
 "cells": [
  {
   "cell_type": "code",
   "execution_count": 1,
   "id": "b6bb121a",
   "metadata": {},
   "outputs": [
    {
     "name": "stderr",
     "output_type": "stream",
     "text": [
      "C:\\Users\\Tavien\\AppData\\Local\\Temp\\ipykernel_13808\\3737639145.py:19: FutureWarning: content is deprecated, use rawContent instead\n",
      "  else: shaq_tweet_arr.append([tweet.url, tweet.date, tweet.content, tweet.id, tweet.user, tweet.replyCount, tweet.retweetCount, tweet.likeCount, tweet.quoteCount, tweet.conversationId, tweet.lang, tweet.source, tweet.coordinates])\n",
      "C:\\Users\\Tavien\\AppData\\Local\\Temp\\ipykernel_13808\\3737639145.py:28: FutureWarning: content is deprecated, use rawContent instead\n",
      "  else: tonyhawk_tweet_arr.append([tweet.url, tweet.date, tweet.content, tweet.id, tweet.user, tweet.replyCount, tweet.retweetCount, tweet.likeCount, tweet.quoteCount, tweet.conversationId, tweet.lang, tweet.source, tweet.coordinates])\n"
     ]
    }
   ],
   "source": [
    "import snscrape.modules.twitter as sntwitter\n",
    "import pandas as pd\n",
    "\n",
    "shaq_twitter_handle = 'SHAQ'\n",
    "tonyhawk_twitter_handle = 'tonyhawk'\n",
    "start = '2022-01-01'\n",
    "end = '2023-01-28'\n",
    "tonyhawk_query = \"(from:{}) until:{} since:{}\".format(tonyhawk_twitter_handle, end, start)\n",
    "shaq_query = \"(from:{}) until:{} since:{}\".format(shaq_twitter_handle, end, start)\n",
    "shaq_tweet_arr = []\n",
    "tonyhawk_tweet_arr = []\n",
    "\n",
    "limit = 100\n",
    "\n",
    "for tweet in sntwitter.TwitterSearchScraper(shaq_query).get_items():\n",
    "    \n",
    "    if len(shaq_tweet_arr) == limit:\n",
    "        break\n",
    "    else: shaq_tweet_arr.append([tweet.url, tweet.date, tweet.content, tweet.id, tweet.user, tweet.replyCount, tweet.retweetCount, tweet.likeCount, tweet.quoteCount, tweet.conversationId, tweet.lang, tweet.source, tweet.coordinates])\n",
    "\n",
    "shaq_tweets = pd.DataFrame(shaq_tweet_arr, columns=['URL', 'Date', 'Content', 'ID', 'User', 'Replies', 'Retweets', 'Likes', 'Quotes', 'Conversation ID', 'Language', 'Source', 'Coordinates'])\n",
    "shaq_tweets.to_csv('tweets.csv', mode = 'a')\n",
    "\n",
    "for tweet in sntwitter.TwitterSearchScraper(tonyhawk_query).get_items():\n",
    "    \n",
    "    if len(tonyhawk_tweet_arr) == limit:\n",
    "        break\n",
    "    else: tonyhawk_tweet_arr.append([tweet.url, tweet.date, tweet.content, tweet.id, tweet.user, tweet.replyCount, tweet.retweetCount, tweet.likeCount, tweet.quoteCount, tweet.conversationId, tweet.lang, tweet.source, tweet.coordinates])\n",
    "        \n",
    "tonyhawk_tweets = pd.DataFrame(tonyhawk_tweet_arr, columns=['URL', 'Date', 'Content', 'ID', 'User', 'Replies', 'Retweets', 'Likes', 'Quotes', 'Conversation ID', 'Language', 'Source', 'Coordinates'])\n",
    "tonyhawk_tweets.to_csv('tweets.csv', mode = 'a')"
   ]
  },
  {
   "cell_type": "code",
   "execution_count": null,
   "id": "cab86f8e",
   "metadata": {},
   "outputs": [],
   "source": []
  }
 ],
 "metadata": {
  "kernelspec": {
   "display_name": "Python 3 (ipykernel)",
   "language": "python",
   "name": "python3"
  },
  "language_info": {
   "codemirror_mode": {
    "name": "ipython",
    "version": 3
   },
   "file_extension": ".py",
   "mimetype": "text/x-python",
   "name": "python",
   "nbconvert_exporter": "python",
   "pygments_lexer": "ipython3",
   "version": "3.9.13"
  }
 },
 "nbformat": 4,
 "nbformat_minor": 5
}

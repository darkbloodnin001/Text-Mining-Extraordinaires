{
 "cells": [
  {
   "cell_type": "markdown",
   "metadata": {},
   "source": [
    "# Parameters to collect\n",
    "<ul>\n",
    "    <li>url: str</li>\n",
    "    <li>date: datetime.datetime</li>\n",
    "    <li>content: str</li>\n",
    "    <li>id: int</li>\n",
    "    <li>user: 'User'</li>\n",
    "    <li>replyCount: int</li>\n",
    "    <li>retweetCount: int</li>\n",
    "    <li>likeCount: int</li>\n",
    "    <li>quoteCount: int</li>\n",
    "    <li>conversationId: int</li>\n",
    "    <li>lang: str</li>\n",
    "    <li>source: str</li>\n",
    "    <li>coordinates: typing.Optional['Coordinates'] = None</li>\n",
    "</ul>\n",
    "<h3>CTRL + Enter = Run cell and below</h3>\n",
    "<br>\n",
    "<h3>Shift + Enter = Run current cell</h3>\n"
   ]
  },
  {
   "cell_type": "code",
   "execution_count": 1,
   "metadata": {},
   "outputs": [],
   "source": [
    "import snscrape.modules.twitter as sntwitter\n",
    "import pandas as pd"
   ]
  },
  {
   "cell_type": "code",
   "execution_count": 2,
   "metadata": {},
   "outputs": [],
   "source": [
    "#Users to scrape from\n",
    "twitter_handles = [\"strombone1\", \"cesc4official\"]\n",
    "#YYYY-MM-DD\n",
    "start = \"2016-01-01\"\n",
    "end = \"2023-02-02\""
   ]
  },
  {
   "cell_type": "code",
   "execution_count": 3,
   "metadata": {},
   "outputs": [],
   "source": [
    "#Initialize dictionary to hold user keys and dataframes values\n",
    "all_data = {}\n",
    "#Loop through \n",
    "for handle in twitter_handles:\n",
    "    query = \"(from:{}) until:{} since:{}\".format(handle, end, start)\n",
    "    tweets = []\n",
    "    limit = 100\n",
    "    for tweet in sntwitter.TwitterSearchScraper(query).get_items():\n",
    "        if len(tweets) == limit:\n",
    "            break\n",
    "        else:\n",
    "            tweets.append([tweet.url,\n",
    "                            tweet.date,\n",
    "                            tweet.rawContent,\n",
    "                            tweet.id,\n",
    "                            tweet.user,\n",
    "                            tweet.replyCount,\n",
    "                            tweet.retweetCount,\n",
    "                            tweet.likeCount,\n",
    "                            tweet.quoteCount,\n",
    "                            tweet.conversationId,\n",
    "                            tweet.lang,\n",
    "                            tweet.source,\n",
    "                            tweet.coordinates\n",
    "                            ])\n",
    "    collected_tweets_df = pd.DataFrame(tweets, columns=['Url',\n",
    "                                                        'Date',\n",
    "                                                        'Content',\n",
    "                                                        'Id',\n",
    "                                                        'User',\n",
    "                                                        'Reply Count',\n",
    "                                                        'Retweet Count',\n",
    "                                                        'Like Count',\n",
    "                                                        'Quote Count',\n",
    "                                                        'Conversation Id',\n",
    "                                                        'Language',\n",
    "                                                        'Source',\n",
    "                                                        'Coordinates'\n",
    "                                                        ])\n",
    "    all_data[handle] = collected_tweets_df\n"
   ]
  },
  {
   "cell_type": "code",
   "execution_count": null,
   "metadata": {},
   "outputs": [],
   "source": [
    "for index, handle in enumerate(all_data.keys()):\n",
    "    #print(all_data[handle])\n",
    "    #print(\"======================\")\n",
    "    all_data[handle].to_csv(path_or_buf=f\"tweets_{handle}.csv\")\n",
    "    print(f\"Exported table #{index}\")"
   ]
  },
  {
   "cell_type": "code",
   "execution_count": null,
   "metadata": {},
   "outputs": [],
   "source": [
    "all_data[\"strombone1\"].head(10)"
   ]
  },
  {
   "cell_type": "code",
   "execution_count": 7,
   "metadata": {},
   "outputs": [],
   "source": [
    "df_master = pd.concat([all_data[twitter_handles[0]], all_data[twitter_handles[1]]], ignore_index=True)\n",
    "df_master.to_csv(path_or_buf=f\"tweets.csv\")"
   ]
  }
 ],
 "metadata": {
  "kernelspec": {
   "display_name": "Python 3 (ipykernel)",
   "language": "python",
   "name": "python3"
  },
  "language_info": {
   "codemirror_mode": {
    "name": "ipython",
    "version": 3
   },
   "file_extension": ".py",
   "mimetype": "text/x-python",
   "name": "python",
   "nbconvert_exporter": "python",
   "pygments_lexer": "ipython3",
   "version": "3.9.13"
  },
  "vscode": {
   "interpreter": {
    "hash": "36647a1b87c30035800aeb35dbc18fb40497493772dd70794ded5d2d651847c1"
   }
  }
 },
 "nbformat": 4,
 "nbformat_minor": 2
}

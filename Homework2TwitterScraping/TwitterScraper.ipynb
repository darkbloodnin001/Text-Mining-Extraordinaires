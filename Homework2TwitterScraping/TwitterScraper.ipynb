{
 "cells": [
  {
   "cell_type": "code",
   "execution_count": 1,
   "metadata": {},
   "outputs": [],
   "source": [
    "import snscrape.modules.twitter as snt\n",
    "import pandas as pd"
   ]
  },
  {
   "cell_type": "code",
   "execution_count": 14,
   "metadata": {},
   "outputs": [
    {
     "name": "stderr",
     "output_type": "stream",
     "text": [
      "C:\\Users\\Kyle\\AppData\\Local\\Temp\\ipykernel_27388\\849450486.py:9: FutureWarning: content is deprecated, use rawContent instead\n",
      "  tweetList.append([tweet.url,tweet.date, tweet.content, tweet.id, tweet.user, tweet.replyCount, tweet.retweetCount, tweet.likeCount, tweet.quoteCount, tweet.conversationId, tweet.lang, tweet.source, tweet.coordinates])\n"
     ]
    }
   ],
   "source": [
    "query = \"(from:{}) until:{} since:{}\".format('JHarden13', '2023-02-01' , '2022-2-01' )\n",
    "tweetList = []\n",
    "\n",
    "for tweet in snt.TwitterSearchScraper(query).get_items():\n",
    "\n",
    "    if len(tweetList) == 100:\n",
    "        break\n",
    "    else:\n",
    "         tweetList.append([tweet.url,tweet.date, tweet.content, tweet.id, tweet.user, tweet.replyCount, tweet.retweetCount, tweet.likeCount, tweet.quoteCount, tweet.conversationId, tweet.lang, tweet.source, tweet.coordinates])\n",
    "\n",
    "HardenTweet = pd.DataFrame(tweetList, columns=['Url','Date','Content','ID','User','Reply Count','Retweet Count','Like Count','Quote Count','Conversation ID','Language','Source','Coordinates'])      "
   ]
  },
  {
   "cell_type": "code",
   "execution_count": 12,
   "metadata": {},
   "outputs": [
    {
     "name": "stderr",
     "output_type": "stream",
     "text": [
      "C:\\Users\\Kyle\\AppData\\Local\\Temp\\ipykernel_27388\\522106184.py:9: FutureWarning: content is deprecated, use rawContent instead\n",
      "  tweetList.append([tweet.url,tweet.date, tweet.content, tweet.id, tweet.user, tweet.replyCount, tweet.retweetCount, tweet.likeCount, tweet.quoteCount, tweet.conversationId, tweet.lang, tweet.source, tweet.coordinates])\n"
     ]
    }
   ],
   "source": [
    "query = \"(from:{}) until:{} since:{}\".format('lancearmstrong', '2023-02-01' , '2022-2-01' )\n",
    "tweetList = []\n",
    "\n",
    "for tweet in snt.TwitterSearchScraper(query).get_items():\n",
    "\n",
    "    if len(tweetList) == 100:\n",
    "        break\n",
    "    else:\n",
    "         tweetList.append([tweet.url,tweet.date, tweet.content, tweet.id, tweet.user, tweet.replyCount, tweet.retweetCount, tweet.likeCount, tweet.quoteCount, tweet.conversationId, tweet.lang, tweet.source, tweet.coordinates])\n",
    "\n",
    "ArmstrongTweet = pd.DataFrame(tweetList, columns=['Url','Date','Content','ID','User','Reply Count','Retweet Count','Like Count','Quote Count','Conversation ID','Language','Source','Coordinates'])      "
   ]
  },
  {
   "cell_type": "code",
   "execution_count": 15,
   "metadata": {},
   "outputs": [],
   "source": [
    "HardenTweet.to_csv('tweets.csv',index=False,mode='a')\n",
    "ArmstrongTweet.to_csv('tweets.csv',index=False,mode='a')"
   ]
  }
 ],
 "metadata": {
  "kernelspec": {
   "display_name": "base",
   "language": "python",
   "name": "python3"
  },
  "language_info": {
   "codemirror_mode": {
    "name": "ipython",
    "version": 3
   },
   "file_extension": ".py",
   "mimetype": "text/x-python",
   "name": "python",
   "nbconvert_exporter": "python",
   "pygments_lexer": "ipython3",
   "version": "3.9.13"
  },
  "orig_nbformat": 4,
  "vscode": {
   "interpreter": {
    "hash": "7c52fea6c38e81b9ac8a6bfcdc4c563d3ae9c1b77804925eb47312bae11414c1"
   }
  }
 },
 "nbformat": 4,
 "nbformat_minor": 2
}

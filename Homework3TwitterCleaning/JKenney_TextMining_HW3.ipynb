{
 "cells": [
  {
   "cell_type": "markdown",
   "id": "797b2f70",
   "metadata": {},
   "source": [
    "## Homework 3 - Replacing Contractions"
   ]
  },
  {
   "cell_type": "code",
   "execution_count": null,
   "id": "f8d36e2b",
   "metadata": {},
   "outputs": [],
   "source": [
    "# Created by: John Kenney\n",
    "# Date: 2/16/2023"
   ]
  },
  {
   "cell_type": "code",
   "execution_count": null,
   "id": "1036505b",
   "metadata": {},
   "outputs": [],
   "source": [
    "pip install contractions\n",
    "#install contractions library"
   ]
  },
  {
   "cell_type": "code",
   "execution_count": 60,
   "id": "4a09fe2b",
   "metadata": {},
   "outputs": [
    {
     "data": {
      "text/plain": [
       "0                                 https://t.co/ZGWUKFL10w\n",
       "1       I am a man of the people. Which helmet should ...\n",
       "2       @JessBlaylock @emilymkaplan First line center ...\n",
       "3       And people think Santa does not exist https://...\n",
       "4       Finally got my captains photo done https://t.c...\n",
       "                              ...                        \n",
       "5826    Congrats @DjokerNole on this amazing achieveme...\n",
       "5827    Hi, everyone! Join me on @FanJoltLive where we...\n",
       "5828                                     👏🏻👏🏻👏🏻👏🏻👏🏻👏🏻👏🏻👏🏻\n",
       "5829    Partidazo de España hoy! 🇪🇸Enhorabuena chicos ...\n",
       "5830                                                   👇🏻\n",
       "Name: content, Length: 5831, dtype: object"
      ]
     },
     "execution_count": 60,
     "metadata": {},
     "output_type": "execute_result"
    }
   ],
   "source": [
    "import pandas as pd\n",
    "import contractions\n",
    "\n",
    "\n",
    "#function def, input is the text of a single tweet\n",
    "#splits the tweet into words (on whitespaces) and then loops through to check if word has an apostrophe\n",
    "#if it does, replace with expanded version (if it is a valid contraction)\n",
    "#else, it leaves word untouched and continues\n",
    "#rejoins all words and returns single string with all contractions expanded\n",
    "def replace_contractions(tweet_contents):\n",
    "    fixed_words = [];\n",
    "    fixed_tweet = tweet_contents;\n",
    "    \n",
    "    if (isinstance(tweet_contents, str)):\n",
    "        words = tweet_contents.split()\n",
    "        \n",
    "        for word in words:\n",
    "            if ((\"’\" in word) or (\"'\" in word)):\n",
    "                fixed_words.append(contractions.fix(word))\n",
    "            else:\n",
    "                fixed_words.append(word)\n",
    "    \n",
    "        fixed_tweet = ' '.join(fixed_words)\n",
    "    \n",
    "    return fixed_tweet\n",
    "\n",
    "\n",
    "#import tweets from csv to pandas dataFrame\n",
    "all_tweets = pd.read_csv('all_tweets_group_4.csv')\n",
    "\n",
    "\n",
    "#loop through each row and replace the value in the content column with the return value of replace_contractions(original_content)\n",
    "for index in range(all_tweets.index.stop):\n",
    "    original_content = all_tweets.loc[index, 'content']\n",
    "    all_tweets.loc[index, 'content'] = replace_contractions(original_content)\n",
    "\n",
    "\n",
    "#display just the contents of all tweets\n",
    "all_tweets.loc[:, 'content']\n",
    "\n",
    "\n",
    "#output to csv if needed\n",
    "#all_tweets.to_csv('JKenney_TextMining_HW3.csv')"
   ]
  }
 ],
 "metadata": {
  "kernelspec": {
   "display_name": "Python 3 (ipykernel)",
   "language": "python",
   "name": "python3"
  },
  "language_info": {
   "codemirror_mode": {
    "name": "ipython",
    "version": 3
   },
   "file_extension": ".py",
   "mimetype": "text/x-python",
   "name": "python",
   "nbconvert_exporter": "python",
   "pygments_lexer": "ipython3",
   "version": "3.9.13"
  }
 },
 "nbformat": 4,
 "nbformat_minor": 5
}

{
 "cells": [
  {
   "cell_type": "code",
   "execution_count": 109,
   "metadata": {},
   "outputs": [],
   "source": [
    "import nltk\n",
    "from nltk.corpus import stopwords\n",
    "from nltk.tokenize import WordPunctTokenizer\n",
    "import pandas as pd\n"
   ]
  },
  {
   "cell_type": "code",
   "execution_count": 110,
   "metadata": {},
   "outputs": [],
   "source": [
    "stops = set(stopwords.words('english'))"
   ]
  },
  {
   "cell_type": "code",
   "execution_count": 111,
   "metadata": {},
   "outputs": [],
   "source": [
    "all_tweets = pd.read_csv('all_tweets_group_4.csv')\n",
    "all_tweets.fillna('',inplace=True)"
   ]
  },
  {
   "cell_type": "code",
   "execution_count": 112,
   "metadata": {},
   "outputs": [],
   "source": [
    "tokenizer = WordPunctTokenizer()\n",
    "for row in all_tweets.index:\n",
    "    Stopped_content = ''\n",
    "    Nonstopped_content = tokenizer.tokenize(all_tweets.loc[row, 'content'])\n",
    "    for word in Nonstopped_content:\n",
    "        if (word not in stops):\n",
    "            Stopped_content += word + ' '\n",
    "    all_tweets.loc[row, 'content'] = Stopped_content"
   ]
  },
  {
   "cell_type": "code",
   "execution_count": 113,
   "metadata": {},
   "outputs": [
    {
     "data": {
      "text/plain": [
       "0                            https :// . co / ZGWUKFL10w \n",
       "1       I ’ man people . Which helmet I wear skills co...\n",
       "2       @ JessBlaylock @ emilymkaplan First line cente...\n",
       "3       And people think Santa ’ exist https :// . co ...\n",
       "4       Finally got captains photo done https :// . co...\n",
       "                              ...                        \n",
       "5826    Congrats @ DjokerNole amazing achievement . 20...\n",
       "5827    Hi , everyone ! Join @ FanJoltLive connect one...\n",
       "5828                                    👏🏻👏🏻👏🏻👏🏻👏🏻👏🏻👏🏻👏🏻 \n",
       "5829    Partidazo de España hoy ! 🇪🇸 Enhorabuena chico...\n",
       "5830                                                  👇🏻 \n",
       "Name: content, Length: 5831, dtype: object"
      ]
     },
     "execution_count": 113,
     "metadata": {},
     "output_type": "execute_result"
    }
   ],
   "source": [
    "all_tweets['content']"
   ]
  }
 ],
 "metadata": {
  "kernelspec": {
   "display_name": "base",
   "language": "python",
   "name": "python3"
  },
  "language_info": {
   "codemirror_mode": {
    "name": "ipython",
    "version": 3
   },
   "file_extension": ".py",
   "mimetype": "text/x-python",
   "name": "python",
   "nbconvert_exporter": "python",
   "pygments_lexer": "ipython3",
   "version": "3.9.13"
  },
  "orig_nbformat": 4,
  "vscode": {
   "interpreter": {
    "hash": "7c52fea6c38e81b9ac8a6bfcdc4c563d3ae9c1b77804925eb47312bae11414c1"
   }
  }
 },
 "nbformat": 4,
 "nbformat_minor": 2
}

{
 "cells": [
  {
   "cell_type": "code",
   "execution_count": null,
   "id": "63e4aaad",
   "metadata": {},
   "outputs": [],
   "source": [
    "import pandas as pd\n",
    "import string\n",
    "import numpy as np\n",
    "from nltk.stem.wordnet import WordNetLemmatizer\n",
    "from nltk import word_tokenize\n",
    "from nltk.corpus import stopwords\n",
    "from nltk.util import ngrams\n",
    "\n",
    "#Reading in just the tweets column from the file\n",
    "df = pd.read_csv(\"all_tweets_group_4.csv\", usecols = ['content'])\n",
    "tweets = df.to_numpy()\n",
    "\n",
    "#Exclude punctuation\n",
    "exclude = set(string.punctuation)\n",
    "stopwords_eng = set(stopwords.words(\"english\"))\n",
    "wnl = WordNetLemmatizer()\n",
    "\n",
    "#Feeds the method a string, which then tokenizes the words in said string and lemmatizes them (stemming)\n",
    "def unigram(xin):\n",
    "    out =''\n",
    "    for s in word_tokenize(xin):\n",
    "        if s not in stopwords_eng:\n",
    "            if s not in exclude:\n",
    "                out = out + ' ' + wnl.lemmatize(s)\n",
    "    return out.replace('-',' ')\n",
    "\n",
    "#Converting the tweets that are in array form to strings\n",
    "string = ' '.join(str(x) for x in tweets)\n",
    "\n",
    "#Creating a list of unigrams\n",
    "unigrams = list(word_tokenize(unigram(string)))\n",
    "\n",
    "for index in range(len(df)):\n",
    "    df.loc[index, 'content'] = unigram(string)\n",
    "\n",
    "#Below code to be used to update the csv\n",
    "#df.to_csv(\"all_tweets_group4.csv\")"
   ]
  },
  {
   "cell_type": "code",
   "execution_count": null,
   "id": "624b1b65",
   "metadata": {},
   "outputs": [],
   "source": []
  }
 ],
 "metadata": {
  "kernelspec": {
   "display_name": "Python 3 (ipykernel)",
   "language": "python",
   "name": "python3"
  },
  "language_info": {
   "codemirror_mode": {
    "name": "ipython",
    "version": 3
   },
   "file_extension": ".py",
   "mimetype": "text/x-python",
   "name": "python",
   "nbconvert_exporter": "python",
   "pygments_lexer": "ipython3",
   "version": "3.9.13"
  }
 },
 "nbformat": 4,
 "nbformat_minor": 5
}
